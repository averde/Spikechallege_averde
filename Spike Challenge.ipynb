{
 "cells": [
  {
   "cell_type": "markdown",
   "metadata": {},
   "source": [
    "# Predicción de caudales extremos en Chile"
   ]
  },
  {
   "cell_type": "markdown",
   "metadata": {},
   "source": [
    "### Carga y análisis de la data"
   ]
  },
  {
   "cell_type": "markdown",
   "metadata": {},
   "source": [
    "Analiza el dataset caudal_extra.csv. ¿Qué puedes decir de los datos, distribuciones, missing, u otros? ¿Hay algo que te llame la atención? ¿Por qué hay tantos valores missing? Pensar en la manera en que se elaboró el dataset, descrito más arriba. (Entregable: texto/imágenes)"
   ]
  },
  {
   "cell_type": "code",
   "execution_count": 43,
   "metadata": {},
   "outputs": [
    {
     "name": "stderr",
     "output_type": "stream",
     "text": [
      "Type 'citation(\"pROC\")' for a citation.\n",
      "\n",
      "Attaching package: 'pROC'\n",
      "\n",
      "The following objects are masked from 'package:stats':\n",
      "\n",
      "    cov, smooth, var\n",
      "\n"
     ]
    }
   ],
   "source": [
    "#Paquetes que utilizaremos en este análisis\n",
    "library(dplyr)\n",
    "library(ggplot2)\n",
    "library(reshape2)\n",
    "library(lubridate)\n",
    "library(randomForest)\n",
    "library(pROC)"
   ]
  },
  {
   "cell_type": "code",
   "execution_count": 3,
   "metadata": {},
   "outputs": [
    {
     "name": "stdout",
     "output_type": "stream",
     "text": [
      "'data.frame':\t1411180 obs. of  17 variables:\n",
      " $ X                     : int  0 1 2 3 4 5 6 7 8 9 ...\n",
      " $ codigo_estacion       : int  4540001 4540001 4540001 4540001 4540001 4540001 4540001 4540001 4540001 4540001 ...\n",
      " $ institucion           : Factor w/ 1 level \"DGA\": 1 1 1 1 1 1 1 1 1 1 ...\n",
      " $ fuente                : Factor w/ 1 level \"dga_web\": 1 1 1 1 1 1 1 1 1 1 ...\n",
      " $ nombre                : Factor w/ 133 levels \"Estero Camisas En Desembocadura\",..: 61 61 61 61 61 61 61 61 61 61 ...\n",
      " $ altura                : int  310 310 310 310 310 310 310 310 310 310 ...\n",
      " $ latitud               : num  -30.7 -30.7 -30.7 -30.7 -30.7 ...\n",
      " $ longitud              : num  -71.1 -71.1 -71.1 -71.1 -71.1 ...\n",
      " $ codigo_cuenca         : int  45 45 45 45 45 45 45 45 45 45 ...\n",
      " $ nombre_sub_cuenca     : Factor w/ 78 levels \"Aconcagua Bajo\",..: 34 34 34 34 34 34 34 34 34 34 ...\n",
      " $ cantidad_observaciones: int  11575 11575 11575 11575 11575 11575 11575 11575 11575 11575 ...\n",
      " $ fecha                 : Factor w/ 21252 levels \"1960-01-02 00:00:00+00:00\",..: 5 86 127 181 203 208 259 304 330 338 ...\n",
      " $ caudal                : num  0.812 0.236 0.73 3.59 1.37 0.822 0.91 2.07 4.41 5.48 ...\n",
      " $ gauge_id              : int  4540001 4540001 4540001 4540001 4540001 4540001 4540001 4540001 4540001 4540001 ...\n",
      " $ gauge_name            : Factor w/ 133 levels \"Estero Camisas En Desembocadura\",..: 61 61 61 61 61 61 61 61 61 61 ...\n",
      " $ precip_promedio       : num  0 0 0 0 0 0 0 0 0 0 ...\n",
      " $ temp_max_promedio     : num  NA NA NA NA NA NA NA NA NA NA ...\n"
     ]
    }
   ],
   "source": [
    "#Cargamos nuestro data, en este caso un archi csv\n",
    "cuencas <- read.csv(\"caudal_extra.csv\")\n",
    "\n",
    "#Con el comando str podemos observar la estructura de nuestro data set \n",
    "str(cuencas)"
   ]
  },
  {
   "cell_type": "code",
   "execution_count": 14,
   "metadata": {},
   "outputs": [
    {
     "data": {
      "text/plain": [
       "       X           codigo_estacion    institucion       fuente       \n",
       " Min.   :      0   Min.   : 1020003   DGA:1411180   dga_web:1411180  \n",
       " 1st Qu.: 352795   1st Qu.: 4320001                                  \n",
       " Median : 705590   Median : 5734001                                  \n",
       " Mean   : 705590   Mean   : 6279953                                  \n",
       " 3rd Qu.:1058384   3rd Qu.: 8308000                                  \n",
       " Max.   :1411179   Max.   :12876004                                  \n",
       "                                                                     \n",
       "                           nombre            altura          latitud      \n",
       " Rio Aconcagua En Chacabuquito:  20706   Min.   :   0.0   Min.   :-54.04  \n",
       " Rio Turbio En Varillar       :  20590   1st Qu.:  45.0   1st Qu.:-37.21  \n",
       " Rio Elqui En Algarrobal      :  20514   Median : 395.0   Median :-33.59  \n",
       " Rio Grande En Cuyano         :  20477   Mean   : 585.6   Mean   :-33.68  \n",
       " Rio Cautin En Cajon          :  20355   3rd Qu.: 750.0   3rd Qu.:-29.95  \n",
       " Rio Copiapo En Lautaro       :  20211   Max.   :4370.0   Max.   :-18.23  \n",
       " (Other)                      :1288327                                    \n",
       "    longitud      codigo_cuenca   \n",
       " Min.   :-73.28   Min.   : 10.00  \n",
       " 1st Qu.:-72.07   1st Qu.: 43.00  \n",
       " Median :-71.25   Median : 57.00  \n",
       " Mean   :-71.22   Mean   : 62.56  \n",
       " 3rd Qu.:-70.53   3rd Qu.: 83.00  \n",
       " Max.   :-68.14   Max.   :128.00  \n",
       "                                  \n",
       "                                          nombre_sub_cuenca  \n",
       " Rio Loa Alto (Bajo Junta Rio Salado)              :  64164  \n",
       " Rio Loncomilla                                    :  54475  \n",
       " Rio Perquilauquen Alto (Bajo Junta Rio Cauquenes) :  51766  \n",
       " Rio Choapa Medio (Entre Rios Cuncumen E Illapel)  :  51307  \n",
       " Rio Huasco                                        :  49266  \n",
       " Rio Loa Medio (Entre Rio Salado Y Quebrada Amarga):  48378  \n",
       " (Other)                                           :1091824  \n",
       " cantidad_observaciones                       fecha             caudal        \n",
       " Min.   :  802          2004-06-18 00:00:00+00:00:    106   Min.   :    0.00  \n",
       " 1st Qu.:10255          2004-06-19 00:00:00+00:00:    106   1st Qu.:    1.25  \n",
       " Median :14889          2004-08-23 00:00:00+00:00:    106   Median :    8.95  \n",
       " Mean   :15740          2004-09-01 00:00:00+00:00:    106   Mean   :   95.52  \n",
       " 3rd Qu.:20611          2004-09-02 00:00:00+00:00:    106   3rd Qu.:   69.70  \n",
       " Max.   :36667          2004-09-03 00:00:00+00:00:    106   Max.   :15805.00  \n",
       "                        (Other)                  :1410544                     \n",
       "    gauge_id                                gauge_name      precip_promedio  \n",
       " Min.   : 1020003   Rio Aconcagua En Chacabuquito:  20706   Min.   :  0.000  \n",
       " 1st Qu.: 4320001   Rio Turbio En Varillar       :  20590   1st Qu.:  0.000  \n",
       " Median : 5734001   Rio Elqui En Algarrobal      :  20514   Median :  0.000  \n",
       " Mean   : 6279953   Rio Grande En Cuyano         :  20477   Mean   :  1.921  \n",
       " 3rd Qu.: 8308000   Rio Cautin En Cajon          :  20355   3rd Qu.:  0.000  \n",
       " Max.   :12876004   Rio Copiapo En Lautaro       :  20211   Max.   :258.600  \n",
       "                    (Other)                      :1288327   NA's   :27767    \n",
       " temp_max_promedio\n",
       " Min.   :-19.05   \n",
       " 1st Qu.: 13.70   \n",
       " Median : 19.08   \n",
       " Mean   : 19.21   \n",
       " 3rd Qu.: 25.20   \n",
       " Max.   : 41.50   \n",
       " NA's   :151563   "
      ]
     },
     "metadata": {},
     "output_type": "display_data"
    }
   ],
   "source": [
    "summary(cuencas)"
   ]
  },
  {
   "cell_type": "code",
   "execution_count": 13,
   "metadata": {},
   "outputs": [
    {
     "name": "stderr",
     "output_type": "stream",
     "text": [
      "No id variables; using all as measure variables\n"
     ]
    },
    {
     "data": {
      "image/png": "[encoded data removed]",
      "text/plain": [
       "plot without title"
      ]
     },
     "metadata": {},
     "output_type": "display_data"
    }
   ],
   "source": [
    "cuencas %>%\n",
    "    select (c(13, 16, 17))%>% \n",
    "    na.omit()%>%\n",
    "    melt() %>% \n",
    "    ggplot(aes(x = value)) +\n",
    "     geom_density()+\n",
    "     facet_wrap( ~ variable, scale = \"free\", nrow = 1)"
   ]
  },
  {
   "cell_type": "markdown",
   "metadata": {},
   "source": [
    "Las distribuciones del caudal y la precipitación promedio son sesgadas a la izquierda mientras que la temperatura parece seguir una distribución bimodal."
   ]
  },
  {
   "cell_type": "markdown",
   "metadata": {},
   "source": [
    "### Plots de precipitación, temperatura y caudal"
   ]
  },
  {
   "cell_type": "markdown",
   "metadata": {},
   "source": [
    "Plots de precipitación, temperatura y caudal\n",
    "\n",
    "a. Escribir una función que tome como input una estación y haga plot de los datos para una columna. Debiese tener estos argumentos:\n",
    "\n",
    "def time_plot_una_estacion(codigo_estacion, columna, fecha_min, fecha_max):\n"
   ]
  },
  {
   "cell_type": "code",
   "execution_count": 16,
   "metadata": {},
   "outputs": [
    {
     "data": {
      "image/png": "[encoded data removed]",
      "text/plain": [
       "plot without title"
      ]
     },
     "metadata": {},
     "output_type": "display_data"
    }
   ],
   "source": [
    "time_plot_una_estacion <- function(codigo_estacion, columna, fecha_min, fecha_max){\n",
    "    x<- codigo_estacion #renombramos el valor ingresado como x para evitar confusión con el nombre del factor\n",
    "    cuencas %>% \n",
    "    mutate(fecha = as.Date(cuencas$fecha, format = \"%Y-%m-%d\")) %>% #convertimos la columna fecha a tipo fecha\n",
    "    filter(.$fecha >= fecha_min & .$fecha <= fecha_max) %>% #filtramos por las fechas que ingresen a la función\n",
    "    filter(codigo_estacion == x) %>% #filtramos por el código de estación que ingresen a la función\n",
    "    na.omit() %>% #omitimos los NAs\n",
    "    ggplot(aes(x = .$fecha, y = .[,columna])) + #hacemos el plot con la columna que ingresen a la función\n",
    "    geom_line(col=\"#00cc99\", size = 0.6) + #cambiamos grosor y color de la línea\n",
    "    theme(axis.ticks.x = element_blank(),\n",
    "          panel.background = element_blank(),\n",
    "          panel.border = element_rect(fill = NA,colour = \"grey\"))+ #cambiamos el color del borde del panel\n",
    "    scale_x_date(date_labels = \"%Y-%m\") + #convertimos el eje x a fecha con formato año-mes\n",
    "    xlab(\"Date\") + ylab(columna)\n",
    "}\n",
    "\n",
    "#Ejemplo\n",
    "time_plot_una_estacion(\"11335002\", \"temp_max_promedio\", \"2017-01-01\", \"2017-12-01\")"
   ]
  },
  {
   "cell_type": "markdown",
   "metadata": {},
   "source": [
    "b. Ahora escribir una función que haga plots de varias columnas, para poder visualizar caudal, precipitación y temperatura al mismo tiempo. Como las series están en diferentes escalas, sugerimos normalizarlas antes de hacer el plot (por ejemplo, dividiendo por la primera observación de cada serie)\n",
    "\n",
    "def time_plot_estaciones_varias_columnas(codigo_estacion, columnas, fecha_min, fecha_max):\n"
   ]
  },
  {
   "cell_type": "code",
   "execution_count": 18,
   "metadata": {},
   "outputs": [
    {
     "data": {
      "image/png": "[encoded data removed]",
      "text/plain": [
       "plot without title"
      ]
     },
     "metadata": {},
     "output_type": "display_data"
    }
   ],
   "source": [
    "time_plot_varias_columnas <- function(codigo_estacion, columnas, fecha_min, fecha_max){\n",
    "  x<- codigo_estacion #renombramos el valor ingresado como x para evitar confusión con el nombre del factor\n",
    "  funcion <- cuencas[c(\"codigo_estacion\", columnas, \"fecha\")]  #Elejimos las columnas de interés\n",
    "  funcion <- funcion %>% \n",
    "    mutate(fecha = as.Date(.$fecha, format = \"%Y-%m-%d\")) %>% #convertimos la columna fecha a tipo fecha\n",
    "    filter(.$fecha >= fecha_min & .$fecha <= fecha_max) %>% #filtramos por las fechas que ingresen a la función\n",
    "    arrange(.$fecha) %>% #ordenamos por fecha\n",
    "    filter(codigo_estacion == x) #filtramos por el código de estación que ingresen a la función\n",
    "    for(i in columnas){ #creamos un loop que itera por cuántas columnas ponga la persona\n",
    "      varname <-  i     #asignamos i como nombre de la variable\n",
    "      funcion <- funcion %>%\n",
    "        mutate(!!varname := funcion[, i]*100/funcion[1, i]) #convertimos la variable i para normalizar a 100 toda la columna por su primer valor\n",
    "    }\n",
    "  \n",
    "  funcion %>% \n",
    "    melt(id= c(\"codigo_estacion\", \"fecha\")) %>% #convertimos las variables \"columnas\" en formato largo, dejando fijas codigo_estacion y fecha\n",
    "    ggplot(aes(x = .$fecha, y = value, col = variable)) + \n",
    "    geom_line()+\n",
    "    theme(axis.ticks.x = element_blank(),\n",
    "          panel.background = element_blank(),\n",
    "          panel.border = element_rect(fill = NA,colour = \"grey\"), #cambiamos el color del borde del panel\n",
    "          legend.title = element_blank())+ #eliminamos el título de la leyenda \n",
    "    scale_x_date(date_labels = \"%Y-%m\") + #convertimos el eje x a fecha con formato año-mes\n",
    "    xlab(\"Date\") + ylab(\"\")\n",
    "} #Limitaciones de la función: si el valor inicial de la columna es cero no funciona\n",
    " \n",
    "#Ejemplo\n",
    "time_plot_varias_columnas(\"11335002\", c(\"caudal\", \"precip_promedio\", \"temp_max_promedio\"), \"2017-01-01\", \"2017-12-01\")"
   ]
  },
  {
   "cell_type": "markdown",
   "metadata": {},
   "source": [
    "### Variables extremas"
   ]
  },
  {
   "cell_type": "markdown",
   "metadata": {},
   "source": [
    "Crea tres variables llamadas:\n",
    "\n",
    "    ● caudal_extremo\n",
    "    ● temp_extremo\n",
    "    ● precip_extremo\n",
    "\n",
    "Dichas variables toman valor 1 un día si el caudal/temperatura/precipitación (según sea el caso) observado ese día es extremo. Esto significa que es mayor de lo \"esperado\". Para capturar esta idea, el valor de caudal, por ejemplo, toma valor 1 si está sobre el percentil 95 de ese caudal para esa estación del año (Verano, Primavera, Otoño, Invierno). Toma valor 0 cuando está bajo ese percentil.\n",
    "\n",
    "En otras palabras, para cada estación de medición y para cada estación del año, debes considerar la distribución histórica de caudal/ temperatura/ precipitación para elegir ese percentil 95. Esta medida toma en cuenta la estacionalidad, pues, por ejemplo, una temperatura de 25 grados en invierno puede ser extrema, pero en verano es normal. También toma en cuenta que cada cuenca (o estación) es diferente. Lo que es extremo para una cuenca no lo es para la otra."
   ]
  },
  {
   "cell_type": "code",
   "execution_count": 4,
   "metadata": {},
   "outputs": [],
   "source": [
    "#Tomaremos estas fechas como las estaciones\n",
    "#Verano: desde el 21 de diciembre (solsticio) al 20 de marzo (equinoccio).\n",
    "#Otoño: desde el 20 de marzo (equinoccio) al 21 de junio (solsticio).\n",
    "#Invierno: desde el 21 de junio (solsticio) al 21 de septiembre (equinoccio).\n",
    "#Primavera: desde el 21 de septiembre (equinoccio) al 21 de diciembre (solsticio).\n",
    "\n",
    "#Creamos una columna con las estaciones\n",
    "estaciones <- cuencas %>% \n",
    "  mutate(fecha = as.Date(cuencas$fecha, format = \"%Y-%m-%d\")) %>% #convertimos la columna fecha a tipo fecha\n",
    "  mutate(estaciones = ifelse(as.Date(format(.$fecha, format = \"%m-%d\"), format = \"%m-%d\") \n",
    "                         %in% c(as.Date(\"03-01\", format = \"%m-%d\"):\n",
    "                                          as.Date(\"06-21\", format = \"%m-%d\")), \"Otoño\",\n",
    "                  ifelse(as.Date(format(.$fecha, format = \"%m-%d\"), format = \"%m-%d\")\n",
    "                         %in% c(as.Date(\"06-22\", format = \"%m-%d\"):\n",
    "                                          as.Date(\"09-21\", format = \"%m-%d\", )), \"Invierno\",\n",
    "                  ifelse(as.Date(format(.$fecha, format = \"%m-%d\"), format = \"%m-%d\")\n",
    "                         %in% c(as.Date(\"09-22\", format = \"%m-%d\"):\n",
    "                                          as.Date(\"12-21\", format = \"%m-%d\")), \"Primavera\", \n",
    "                         \"Verano\")))) #usamos el comando mutate para crear la columna estaciones y con ifelse creamos las varias condiciones para clasificar cada estación\n"
   ]
  },
  {
   "cell_type": "code",
   "execution_count": 5,
   "metadata": {},
   "outputs": [],
   "source": [
    "#Creamos las variables: caudal_extremo, temp_extremo y precip_extremo\n",
    "percentil95 <-  estaciones %>% \n",
    "  mutate(codigo_cuenca = as.factor(as.numeric(codigo_cuenca))) %>% #convertimos la columna codigo_cuenca a factor\n",
    "  group_by(codigo_estacion, estaciones) %>% #agrupamos por estación\n",
    "  na.omit() %>% #omitimos los NAs\n",
    "  mutate(caudal_95 = quantile(caudal, .95), #creamos columnas con que tengan el valor del percentil 95 para las 3 variables\n",
    "         temp_95 = quantile(temp_max_promedio, .95),\n",
    "         precip_95 = quantile(precip_promedio, .95)) %>% \n",
    "  ungroup() %>% # desagrupamos\n",
    "  mutate(caudal_extremo =ifelse(caudal > caudal_95, 1, 0), #creamos las nuevas variables usando ifelse y la condición de ser mayor al percentil 95\n",
    "         temp_extremo = ifelse(temp_max_promedio > temp_95, 1, 0),\n",
    "         precip_extremo = ifelse(precip_promedio > precip_95, 1, 0))"
   ]
  },
  {
   "cell_type": "markdown",
   "metadata": {},
   "source": [
    "#### ¿Les parece razonable esta medida para capturar algo “extremo”? ¿Usarían otra? ¿Cuál? (Solamente descríbanla, no la codifiquen! Vamos a usar la definición de Spike para esta desafío)"
   ]
  },
  {
   "cell_type": "markdown",
   "metadata": {},
   "source": [
    "También usaría los valores estremos que están por debajo del 5% "
   ]
  },
  {
   "cell_type": "markdown",
   "metadata": {},
   "source": [
    "### Caudal extremo"
   ]
  },
  {
   "cell_type": "markdown",
   "metadata": {},
   "source": [
    "Análisis de la variable caudal_extremo en las diferentes cuencas"
   ]
  },
  {
   "cell_type": "code",
   "execution_count": 44,
   "metadata": {
    "scrolled": true
   },
   "outputs": [
    {
     "data": {
      "text/html": [
       "<table>\n",
       "<thead><tr><th scope=col>n_distinct(codigo_cuenca)</th></tr></thead>\n",
       "<tbody>\n",
       "\t<tr><td>29</td></tr>\n",
       "</tbody>\n",
       "</table>\n"
      ],
      "text/latex": [
       "\\begin{tabular}{r|l}\n",
       " n\\_distinct(codigo\\_cuenca)\\\\\n",
       "\\hline\n",
       "\t 29\\\\\n",
       "\\end{tabular}\n"
      ],
      "text/markdown": [
       "\n",
       "| n_distinct(codigo_cuenca) |\n",
       "|---|\n",
       "| 29 |\n",
       "\n"
      ],
      "text/plain": [
       "  n_distinct(codigo_cuenca)\n",
       "1 29                       "
      ]
     },
     "metadata": {},
     "output_type": "display_data"
    }
   ],
   "source": [
    "cuencas %>%  \n",
    "    summarise(n_distinct(codigo_cuenca)) #con esto podemos ver la cantidad de distintas cuencas que tenemos"
   ]
  },
  {
   "cell_type": "code",
   "execution_count": 34,
   "metadata": {},
   "outputs": [
    {
     "data": {
      "image/png": "[encoded data removed]",
      "text/plain": [
       "plot without title"
      ]
     },
     "metadata": {},
     "output_type": "display_data"
    }
   ],
   "source": [
    "percentil95 %>%\n",
    "  mutate(caudal_extemo = as.factor(caudal_extremo)) %>% #convertimos caudal_extremo en factor\n",
    "  group_by(codigo_cuenca, estaciones, caudal_extremo) %>% #agrupamos las variables de interés\n",
    "  summarise(Avcaudal=mean(caudal))%>%  #calculamo el promedio del caudal\n",
    "  ggplot(aes(x = codigo_cuenca, y = Avcaudal, fill =factor(caudal_extremo)))+ \n",
    "  geom_bar(stat = \"identity\", position = \"dodge\")+ #dodge nos permite separar las barras para caudal_extremo igual a 1 y 0\n",
    "  theme(axis.text.x = element_text(angle = 90))+ #colocamos el texto del eje x en vertical \n",
    "  facet_wrap(~estaciones, scales = \"fixed\", nrow = 2) #dividimos por paneles según estaciones, con la escala de los ejes fijos y dispuestos en dos filas "
   ]
  },
  {
   "cell_type": "markdown",
   "metadata": {},
   "source": [
    "#### Analicen la variable caudal_extremo. Los comportamientos en diferentes cuencas son muy diferentes?"
   ]
  },
  {
   "cell_type": "markdown",
   "metadata": {},
   "source": [
    "Sí, las cuencas son bastante diferentes, unas con relativamente poco caudal en comparación con otras. También podemos ver en el gráfico que una misma cuenca puede tener comportamientos de caudal extremo incluso en la misma estación del año. Podemos ver que en algunos casos el promedio del caudal es más del doble para una misma cuenca y estación del año, al comparar caudal_extremo igual a 1 e igual a 0."
   ]
  },
  {
   "cell_type": "markdown",
   "metadata": {},
   "source": [
    "### Porcentaje de eventos extremos a través del tiempo"
   ]
  },
  {
   "cell_type": "markdown",
   "metadata": {},
   "source": [
    "Hagan un plot del porcentaje de eventos extremos a través del tiempo (caudal_extremo, temp_extremo, precip_extremo). "
   ]
  },
  {
   "cell_type": "code",
   "execution_count": 42,
   "metadata": {},
   "outputs": [
    {
     "data": {
      "image/png": "[encoded data removed]",
      "text/plain": [
       "plot without title"
      ]
     },
     "metadata": {},
     "output_type": "display_data"
    }
   ],
   "source": [
    "percentil95  %>% \n",
    "  mutate(year = lubridate::year(fecha), \n",
    "        month = lubridate::month(fecha), \n",
    "        day = lubridate::day(fecha)) %>% \n",
    "  group_by(year, estaciones) %>%          #agrupamos según nuestras variables de interés\n",
    "  summarise(percentage_caudal =(sum(caudal_extremo)/n())*100, #pasamos las variables de interés a porcentaje\n",
    "            percentage_temp =(sum(temp_extremo)/n())*100,\n",
    "            percentage_precip =(sum(precip_extremo)/n())*100) %>%\n",
    "  melt(id= c(\"year\", \"estaciones\")) %>% #convertimos las variables \"columnas\" en formato largo, dejando fijas año y estaciones\n",
    "  ggplot(aes(x = year, y = value, col = variable))+\n",
    "  geom_line()+ \n",
    "  theme(axis.ticks.x = element_blank(),\n",
    "          panel.background = element_blank(),\n",
    "          panel.border = element_rect(fill = NA, colour = \"grey\"), #cambiamos el color del borde del panel\n",
    "          legend.title = element_blank())+ #eliminamos el título de la leyenda \n",
    "  facet_wrap(~estaciones, scales = \"fixed\", nrow = 2)+\n",
    "  ylab(\"Porcentaje\")"
   ]
  },
  {
   "cell_type": "markdown",
   "metadata": {},
   "source": [
    "#### Se han vuelto más o menos comunes?"
   ]
  },
  {
   "cell_type": "markdown",
   "metadata": {},
   "source": [
    "Es difícil poder sacar algún patrón claro, pero se puede observar que particularmente la temperatura ha mostrado un aumento en los últimos años, en otoño. También se puede observar que para primevera e invierno ha ido aumentando el porcentaje mínimo de eventos extremos para las 3 variables."
   ]
  },
  {
   "cell_type": "markdown",
   "metadata": {},
   "source": [
    "### Predicción de caudal extremo"
   ]
  },
  {
   "cell_type": "markdown",
   "metadata": {},
   "source": [
    "Predicción de caudal extremo. Entrena uno o varios modelos (usando el/los algoritmo(s) que prefieras) para estimar la probabilidad de un caudal extremo (la variable binaria caudal_extremo). Siéntete libre de generar variables adicionales y/o complementar con variables externas."
   ]
  },
  {
   "cell_type": "code",
   "execution_count": 6,
   "metadata": {},
   "outputs": [
    {
     "name": "stdout",
     "output_type": "stream",
     "text": [
      "Classes 'tbl_df', 'tbl' and 'data.frame':\t1256478 obs. of  16 variables:\n",
      " $ X                : int  32 33 34 35 36 37 38 39 40 41 ...\n",
      " $ codigo_estacion  : int  4540001 4540001 4540001 4540001 4540001 4540001 4540001 4540001 4540001 4540001 ...\n",
      " $ altura           : int  310 310 310 310 310 310 310 310 310 310 ...\n",
      " $ latitud          : num  -30.7 -30.7 -30.7 -30.7 -30.7 ...\n",
      " $ longitud         : num  -71.1 -71.1 -71.1 -71.1 -71.1 ...\n",
      " $ fecha            : Date, format: \"1965-08-19\" \"1965-09-05\" ...\n",
      " $ caudal           : num  77 51.2 56.9 81.9 50.4 11.8 3.43 2.75 18.2 14.3 ...\n",
      " $ precip_promedio  : num  0 0 0 0 0 0 0 0 0 0 ...\n",
      " $ temp_max_promedio: num  21.5 20.5 22 20.5 28.5 25 27.5 21 16.5 20.5 ...\n",
      " $ estaciones       : Factor w/ 4 levels \"Invierno\",\"Otoño\",..: 1 1 3 3 3 4 2 2 1 1 ...\n",
      " $ caudal_extremo   : Factor w/ 2 levels \"0\",\"1\": 2 2 1 2 1 1 1 1 1 1 ...\n",
      " $ temp_extremo     : Factor w/ 2 levels \"0\",\"1\": 1 1 1 1 1 1 1 1 1 1 ...\n",
      " $ precip_extremo   : Factor w/ 2 levels \"0\",\"1\": 1 1 1 1 1 1 1 1 1 1 ...\n",
      " $ year             : num  1965 1965 1965 1965 1965 ...\n",
      " $ mes              : num  8 9 10 10 12 2 3 4 7 8 ...\n",
      " $ dia              : int  19 5 6 15 21 4 23 11 29 20 ...\n"
     ]
    }
   ],
   "source": [
    "#Primero limpiamos el dataframe\n",
    "percentil95_clean <- percentil95 %>% \n",
    "                      select(-c(3:5, 9:11, 14, 15, 19:21)) %>%     #sacamos las columnas que no nos interesan\n",
    "                      mutate(year = lubridate::year(fecha),        #creamos columnas con la fecha dividida en mes, día y año\n",
    "                            mes = lubridate::month(fecha), \n",
    "                            dia = lubridate::day(fecha)) %>% \n",
    "                      mutate(estaciones = as.factor(.$estaciones), #convertimos a factor las columnas de interés\n",
    "                            caudal_extremo = as.factor(.$caudal_extremo), \n",
    "                            temp_extremo = as.factor(.$temp_extremo),\n",
    "                            precip_extremo = as.factor(.$precip_extremo)) %>%\n",
    "                      na.omit()\n",
    "str(percentil95_clean)  #Nos aseguramos que todo esté correcto"
   ]
  },
  {
   "cell_type": "code",
   "execution_count": 7,
   "metadata": {},
   "outputs": [],
   "source": [
    "set.seed(158) #Asignamos una semilla para poder reproducir los resultados\n",
    "\n",
    "#Dividimos nuestra data en datos de entrenamiento del modelo y datos de prueba\n",
    "train_subset <- percentil95_clean %>% \n",
    "                    sample_frac(.70) #En este caso dividiremos la data en 70%  de entrenamiento y el 30% de prueba \n",
    "test_subset <- anti_join(percentil95_clean, train_subset, by = 'X') #anti_join nos permite agarrar las filas que no corresponden al set de prueba usando como referencia la columna X que posee un número único para cada fila"
   ]
  },
  {
   "cell_type": "code",
   "execution_count": 8,
   "metadata": {},
   "outputs": [
    {
     "name": "stdout",
     "output_type": "stream",
     "text": [
      "Classes 'tbl_df', 'tbl' and 'data.frame':\t879535 obs. of  11 variables:\n",
      " $ latitud          : num  -45.4 -51.2 -28.5 -35.6 -37.6 ...\n",
      " $ longitud         : num  -72.5 -72.5 -71 -71.8 -72.6 ...\n",
      " $ fecha            : Date, format: \"2003-10-20\" \"2016-08-02\" ...\n",
      " $ caudal           : num  221 2.94 1.55 118 107 7.92 31.5 8.35 419 1.84 ...\n",
      " $ precip_promedio  : num  0.5 0.0333 0 0 0 ...\n",
      " $ temp_max_promedio: num  12.9 4.9 28.5 21.1 20.5 ...\n",
      " $ estaciones       : Factor w/ 4 levels \"Invierno\",\"Otoño\",..: 3 1 3 3 2 3 1 2 1 3 ...\n",
      " $ caudal_extremo   : Factor w/ 2 levels \"0\",\"1\": 1 1 1 1 1 1 1 1 1 1 ...\n",
      " $ year             : num  2003 2016 2009 2009 1984 ...\n",
      " $ mes              : num  10 8 12 12 4 11 6 5 8 11 ...\n",
      " $ dia              : int  20 2 11 1 6 8 27 8 23 1 ...\n"
     ]
    }
   ],
   "source": [
    "#De las 16 variables eliminaremos las variables X, codigo_estacion, precip_extremo y temp_extremo\n",
    "train <- train_subset %>% \n",
    "                  select(-c(1:3, 12:13))\n",
    "test <- test_subset %>% \n",
    "                  select(-c(1:3, 12:13))\n",
    "str(train)"
   ]
  },
  {
   "cell_type": "code",
   "execution_count": 9,
   "metadata": {},
   "outputs": [
    {
     "data": {
      "text/html": [
       "<table>\n",
       "<thead><tr><th></th><th scope=col>latitud</th><th scope=col>longitud</th><th scope=col>fecha</th><th scope=col>caudal</th><th scope=col>precip_promedio</th><th scope=col>temp_max_promedio</th><th scope=col>caudal_extremo</th><th scope=col>year</th><th scope=col>mes</th><th scope=col>dia</th></tr></thead>\n",
       "<tbody>\n",
       "\t<tr><th scope=row>latitud</th><td> 1.000</td><td> 0.847</td><td>-0.168</td><td>-0.350</td><td>-0.136</td><td> 0.238</td><td> 0.000</td><td>-0.168</td><td> 0.000</td><td> 0.001</td></tr>\n",
       "\t<tr><th scope=row>longitud</th><td> 0.847</td><td> 1.000</td><td>-0.116</td><td>-0.394</td><td>-0.161</td><td> 0.104</td><td>-0.001</td><td>-0.116</td><td> 0.000</td><td> 0.001</td></tr>\n",
       "\t<tr><th scope=row>fecha</th><td>-0.168</td><td>-0.116</td><td> 1.000</td><td> 0.110</td><td> 0.008</td><td>-0.144</td><td>-0.034</td><td> 1.000</td><td>-0.005</td><td>-0.002</td></tr>\n",
       "\t<tr><th scope=row>caudal</th><td>-0.350</td><td>-0.394</td><td> 0.110</td><td> 1.000</td><td> 0.194</td><td>-0.235</td><td> 0.204</td><td> 0.109</td><td> 0.058</td><td> 0.003</td></tr>\n",
       "\t<tr><th scope=row>precip_promedio</th><td>-0.136</td><td>-0.161</td><td> 0.008</td><td> 0.194</td><td> 1.000</td><td>-0.259</td><td> 0.120</td><td> 0.008</td><td> 0.012</td><td>-0.001</td></tr>\n",
       "\t<tr><th scope=row>temp_max_promedio</th><td> 0.238</td><td> 0.104</td><td>-0.144</td><td>-0.235</td><td>-0.259</td><td> 1.000</td><td>-0.047</td><td>-0.141</td><td>-0.149</td><td>-0.005</td></tr>\n",
       "\t<tr><th scope=row>caudal_extremo</th><td> 0.000</td><td>-0.001</td><td>-0.034</td><td> 0.204</td><td> 0.120</td><td>-0.047</td><td> 1.000</td><td>-0.034</td><td> 0.027</td><td> 0.010</td></tr>\n",
       "\t<tr><th scope=row>year</th><td>-0.168</td><td>-0.116</td><td> 1.000</td><td> 0.109</td><td> 0.008</td><td>-0.141</td><td>-0.034</td><td> 1.000</td><td>-0.025</td><td>-0.004</td></tr>\n",
       "\t<tr><th scope=row>mes</th><td> 0.000</td><td> 0.000</td><td>-0.005</td><td> 0.058</td><td> 0.012</td><td>-0.149</td><td> 0.027</td><td>-0.025</td><td> 1.000</td><td> 0.010</td></tr>\n",
       "\t<tr><th scope=row>dia</th><td> 0.001</td><td> 0.001</td><td>-0.002</td><td> 0.003</td><td>-0.001</td><td>-0.005</td><td> 0.010</td><td>-0.004</td><td> 0.010</td><td> 1.000</td></tr>\n",
       "</tbody>\n",
       "</table>\n"
      ],
      "text/latex": [
       "\\begin{tabular}{r|llllllllll}\n",
       "  & latitud & longitud & fecha & caudal & precip\\_promedio & temp\\_max\\_promedio & caudal\\_extremo & year & mes & dia\\\\\n",
       "\\hline\n",
       "\tlatitud &  1.000 &  0.847 & -0.168 & -0.350 & -0.136 &  0.238 &  0.000 & -0.168 &  0.000 &  0.001\\\\\n",
       "\tlongitud &  0.847 &  1.000 & -0.116 & -0.394 & -0.161 &  0.104 & -0.001 & -0.116 &  0.000 &  0.001\\\\\n",
       "\tfecha & -0.168 & -0.116 &  1.000 &  0.110 &  0.008 & -0.144 & -0.034 &  1.000 & -0.005 & -0.002\\\\\n",
       "\tcaudal & -0.350 & -0.394 &  0.110 &  1.000 &  0.194 & -0.235 &  0.204 &  0.109 &  0.058 &  0.003\\\\\n",
       "\tprecip\\_promedio & -0.136 & -0.161 &  0.008 &  0.194 &  1.000 & -0.259 &  0.120 &  0.008 &  0.012 & -0.001\\\\\n",
       "\ttemp\\_max\\_promedio &  0.238 &  0.104 & -0.144 & -0.235 & -0.259 &  1.000 & -0.047 & -0.141 & -0.149 & -0.005\\\\\n",
       "\tcaudal\\_extremo &  0.000 & -0.001 & -0.034 &  0.204 &  0.120 & -0.047 &  1.000 & -0.034 &  0.027 &  0.010\\\\\n",
       "\tyear & -0.168 & -0.116 &  1.000 &  0.109 &  0.008 & -0.141 & -0.034 &  1.000 & -0.025 & -0.004\\\\\n",
       "\tmes &  0.000 &  0.000 & -0.005 &  0.058 &  0.012 & -0.149 &  0.027 & -0.025 &  1.000 &  0.010\\\\\n",
       "\tdia &  0.001 &  0.001 & -0.002 &  0.003 & -0.001 & -0.005 &  0.010 & -0.004 &  0.010 &  1.000\\\\\n",
       "\\end{tabular}\n"
      ],
      "text/markdown": [
       "\n",
       "| <!--/--> | latitud | longitud | fecha | caudal | precip_promedio | temp_max_promedio | caudal_extremo | year | mes | dia |\n",
       "|---|---|---|---|---|---|---|---|---|---|---|\n",
       "| latitud |  1.000 |  0.847 | -0.168 | -0.350 | -0.136 |  0.238 |  0.000 | -0.168 |  0.000 |  0.001 |\n",
       "| longitud |  0.847 |  1.000 | -0.116 | -0.394 | -0.161 |  0.104 | -0.001 | -0.116 |  0.000 |  0.001 |\n",
       "| fecha | -0.168 | -0.116 |  1.000 |  0.110 |  0.008 | -0.144 | -0.034 |  1.000 | -0.005 | -0.002 |\n",
       "| caudal | -0.350 | -0.394 |  0.110 |  1.000 |  0.194 | -0.235 |  0.204 |  0.109 |  0.058 |  0.003 |\n",
       "| precip_promedio | -0.136 | -0.161 |  0.008 |  0.194 |  1.000 | -0.259 |  0.120 |  0.008 |  0.012 | -0.001 |\n",
       "| temp_max_promedio |  0.238 |  0.104 | -0.144 | -0.235 | -0.259 |  1.000 | -0.047 | -0.141 | -0.149 | -0.005 |\n",
       "| caudal_extremo |  0.000 | -0.001 | -0.034 |  0.204 |  0.120 | -0.047 |  1.000 | -0.034 |  0.027 |  0.010 |\n",
       "| year | -0.168 | -0.116 |  1.000 |  0.109 |  0.008 | -0.141 | -0.034 |  1.000 | -0.025 | -0.004 |\n",
       "| mes |  0.000 |  0.000 | -0.005 |  0.058 |  0.012 | -0.149 |  0.027 | -0.025 |  1.000 |  0.010 |\n",
       "| dia |  0.001 |  0.001 | -0.002 |  0.003 | -0.001 | -0.005 |  0.010 | -0.004 |  0.010 |  1.000 |\n",
       "\n"
      ],
      "text/plain": [
       "                  latitud longitud fecha  caudal precip_promedio\n",
       "latitud            1.000   0.847   -0.168 -0.350 -0.136         \n",
       "longitud           0.847   1.000   -0.116 -0.394 -0.161         \n",
       "fecha             -0.168  -0.116    1.000  0.110  0.008         \n",
       "caudal            -0.350  -0.394    0.110  1.000  0.194         \n",
       "precip_promedio   -0.136  -0.161    0.008  0.194  1.000         \n",
       "temp_max_promedio  0.238   0.104   -0.144 -0.235 -0.259         \n",
       "caudal_extremo     0.000  -0.001   -0.034  0.204  0.120         \n",
       "year              -0.168  -0.116    1.000  0.109  0.008         \n",
       "mes                0.000   0.000   -0.005  0.058  0.012         \n",
       "dia                0.001   0.001   -0.002  0.003 -0.001         \n",
       "                  temp_max_promedio caudal_extremo year   mes    dia   \n",
       "latitud            0.238             0.000         -0.168  0.000  0.001\n",
       "longitud           0.104            -0.001         -0.116  0.000  0.001\n",
       "fecha             -0.144            -0.034          1.000 -0.005 -0.002\n",
       "caudal            -0.235             0.204          0.109  0.058  0.003\n",
       "precip_promedio   -0.259             0.120          0.008  0.012 -0.001\n",
       "temp_max_promedio  1.000            -0.047         -0.141 -0.149 -0.005\n",
       "caudal_extremo    -0.047             1.000         -0.034  0.027  0.010\n",
       "year              -0.141            -0.034          1.000 -0.025 -0.004\n",
       "mes               -0.149             0.027         -0.025  1.000  0.010\n",
       "dia               -0.005             0.010         -0.004  0.010  1.000"
      ]
     },
     "metadata": {},
     "output_type": "display_data"
    }
   ],
   "source": [
    "#Calculamos la correlación entre nuestras variables para ver si hay alguna redundante\n",
    "correlation <- train %>% \n",
    "    mutate(fecha = as.numeric(fecha), #convertimos estas columnas para calcular la correlación ya que solo acepta caracteres numéricos\n",
    "           caudal_extremo = as.numeric(caudal_extremo)) %>%\n",
    "    select(-7) %>% #Y quitamos de la matriz la variable estaciones\n",
    "    cor()\n",
    "round(correlation, 3)\n"
   ]
  },
  {
   "cell_type": "markdown",
   "metadata": {},
   "source": [
    "Ya que fecha y año son redundantes sacaremos la variable año. Latitud y longitud también son redundantes por lo que sacaremos la varible latitud"
   ]
  },
  {
   "cell_type": "code",
   "execution_count": 9,
   "metadata": {},
   "outputs": [],
   "source": [
    "train_data <- train %>% \n",
    "                select(-c(1, 9))%>%     #sacamos las variables redundantes\n",
    "                do(sample_n(., 200000)) #remuestree el subset para agarrar menos datos por la capacidad de mi laptop\n",
    "test_data <- test %>% \n",
    "                select(-c(1, 9))%>%\n",
    "                do(sample_n(., 85714)) #también se remuestreó preservando los porcentajes 70, 30."
   ]
  },
  {
   "cell_type": "markdown",
   "metadata": {},
   "source": [
    "Elegí utilizar el algoritmo de random forest ya que es uno de los más precisos, que puede manejar gran cantidad de datos,tanto categóricos como númericos y que no necesita de la transformación previa de los datos."
   ]
  },
  {
   "cell_type": "code",
   "execution_count": 11,
   "metadata": {},
   "outputs": [
    {
     "ename": "ERROR",
     "evalue": "Error: cannot allocate vector of size 1.5 Gb\n",
     "output_type": "error",
     "traceback": [
      "Error: cannot allocate vector of size 1.5 Gb\nTraceback:\n",
      "1. randomForest(caudal_extremo ~ ., data = train_data)",
      "2. randomForest.formula(caudal_extremo ~ ., data = train_data)",
      "3. randomForest.default(m, y, ...)",
      "4. aperm(array(rfout$treemap, dim = c(2, nrnodes, ntree)), c(2, \n .     1, 3))",
      "5. aperm.default(array(rfout$treemap, dim = c(2, nrnodes, ntree)), \n .     c(2, 1, 3))"
     ]
    }
   ],
   "source": [
    "#Tiene que tener espacio suficiente en la RAM para correr el modelo\n",
    "rf_caudal_extremo <- randomForest(\n",
    "  caudal_extremo ~ .,\n",
    "  data=train_data\n",
    ")\n",
    "rf_caudal_extremo"
   ]
  },
  {
   "cell_type": "code",
   "execution_count": 44,
   "metadata": {},
   "outputs": [
    {
     "ename": "ERROR",
     "evalue": "Error in varImpPlot(rf_caudal_extremo): object 'rf_caudal_extremo' not found\n",
     "output_type": "error",
     "traceback": [
      "Error in varImpPlot(rf_caudal_extremo): object 'rf_caudal_extremo' not found\nTraceback:\n",
      "1. varImpPlot(rf_caudal_extremo)"
     ]
    }
   ],
   "source": [
    "varImpPlot(rf_caudal_extremo) #podemos observar las variables más importantes"
   ]
  },
  {
   "cell_type": "code",
   "execution_count": null,
   "metadata": {},
   "outputs": [],
   "source": [
    "#Analizamos que tan bien predice el modelo los datos de prueba \n",
    "pred_caudal_extremo <-  predict(rf_caudal_extremo, newdata=test_data[-7])\n",
    "table(test_data$caudal_extremo, pred_caudal_extremo) #Podemos ver la matriz de confusión de nuestras predicciones\n",
    "prop.table(table(test_data$caudal_extremo, pred_caudal_extremo), margin = 1) #Podemos ver el porcentaje de precisión para los casos de caudal extremo igual a 1"
   ]
  },
  {
   "cell_type": "code",
   "execution_count": null,
   "metadata": {},
   "outputs": [],
   "source": []
  },
  {
   "cell_type": "markdown",
   "metadata": {},
   "source": [
    "Ya que la variable caudal_extremo tiene poca representación de los valores extremos creé un dataset con que tuviesen un 19% de los datos como cauda_extremo igual a 1 y así que el modelo esté mejor entrenado para manejar estos casos."
   ]
  },
  {
   "cell_type": "code",
   "execution_count": 19,
   "metadata": {},
   "outputs": [],
   "source": [
    "f.sample <- function(a, percent) a[sample(nrow(a), nrow(a)*percent, replace = TRUE),]\n",
    "train_balanced <- train %>% \n",
    "                    select(-c(1, 9)) #sacamos las variables redundantes\n",
    "train_ex <- f.sample(train_balanced[train_balanced$caudal_extremo==1,], 0.9) #Elección de 90% de datos con caudal extremo = 1\n",
    "train_no_ex <- f.sample(train_balanced[train_balanced$caudal_extremo==0,], 0.2) #Elección de 20% de datos con caudal extremo = 0\n",
    "train_rf_balanced <- rbind(train_ex,train_no_ex) #Data de entrenamiento con 19% de datos con caudal extremo\n",
    "\n",
    "test_balanced <- test %>% \n",
    "                    select(-c(1, 9))  #sacamos las variables redundantes\n",
    "test_ex <- f.sample(test_balanced[test_balanced$caudal_extremo==1,], 0.9) #Elección de 90% de datos con caudal extremo = 1\n",
    "test_no_ex <- f.sample(test_balanced[test_balanced$caudal_extremo==0,], 0.2) #Elección de 20% de datos con caudal extremo = 0\n",
    "test_rf_balanced <- rbind(test_ex,test_no_ex) #Data de prueba con 19% de datos con caudal extremo\n"
   ]
  },
  {
   "cell_type": "code",
   "execution_count": null,
   "metadata": {},
   "outputs": [],
   "source": [
    "rf_balanced <- randomForest(\n",
    "  caudal_extremo ~ .,\n",
    "  data=train_rf_balanced\n",
    ")\n",
    "\n",
    "rf_balanced"
   ]
  },
  {
   "cell_type": "code",
   "execution_count": null,
   "metadata": {},
   "outputs": [],
   "source": [
    "varImpPlot(rf_balanced) #podemos observar las variables más importantes"
   ]
  },
  {
   "cell_type": "code",
   "execution_count": null,
   "metadata": {},
   "outputs": [],
   "source": [
    "#Analizamos que tan bien predice el modelo los datos de prueba balanceados\n",
    "pred_balanced_data <- predict(rf_balanced, newdata=test_rf_balanced[-7])\n",
    "table(test_rf_balanced$caudal_extremo, pred_balanced_data) #Podemos ver la matriz de confusión de nuestras predicciones\n",
    "prop.table(table(test_rf_balanced$caudal_extremo, pred_balanced_data), margin = 1) #Podemos ver el porcentaje de precisión para los casos de caudal extremo igual a 1"
   ]
  },
  {
   "cell_type": "code",
   "execution_count": null,
   "metadata": {},
   "outputs": [],
   "source": [
    "#Analizamos que tan bien predice el modelo los datos de prueba originales.\n",
    "pred_test_data <- predict(rf_balanced, newdata=test_data[-7])\n",
    "table(test_data$caudal_extremo, pred_test_data) #Podemos ver la matriz de confusión de nuestras predicciones\n",
    "prop.table(table(test_data$caudal_extremo, pred_test_data), margin = 1) #Podemos ver el porcentaje de precisión para los casos de caudal extremo igual a 1\n",
    "auc(as.numeric(test_data$caudal_extremo), as.numeric(pred_test_data)) #medimos la precisión del modelo en general para nuestras predicciones"
   ]
  },
  {
   "cell_type": "markdown",
   "metadata": {},
   "source": [
    "##### ¿Qué datos podemos usar y cuáles no? Por supuesto, no podemos usar datos del futuro, pero ¿es lícito usar información del mismo día? ¿del día anterior? Todo depende de cómo propongas que el modelo se puede usar. Haz una propuesta de cómo usar tu modelo en la práctica (por ejemplo: una vez entrenado, voy a tomar los datos de XXX hasta el lunes y predecir para el día siguiente). Dada la propuesta, declara restricciones de información para caudal, temperatura y precipitación"
   ]
  },
  {
   "cell_type": "markdown",
   "metadata": {},
   "source": [
    "El modelo está probado para manejar las varibles: longitud, fecha, caudal, precip_promedio, tem_max_promedio, estaciones, mes y día. Se puede utilizar información del mismo día para predecir si va a haber caudal_extremo ya que el modelo evalua las variables temporales: mes, día y fecha. "
   ]
  },
  {
   "cell_type": "markdown",
   "metadata": {},
   "source": [
    "### Análisis de resultados del modelo"
   ]
  },
  {
   "cell_type": "markdown",
   "metadata": {},
   "source": [
    "#### a. Qué performance tiene el modelo? Qué métricas usaste para medir esa performance? Cuáles son las variables más importantes? Qué opinión te merecen los resultados?\n"
   ]
  },
  {
   "cell_type": "markdown",
   "metadata": {},
   "source": [
    "El modelo de datos balanceados fue el más preciso para capturar eventos de caudal extremo. Esto se puede ver con la matriz de confusión y con el valor de 88% de área bajo la curva. El top tres de variables más importantes para este modelo son: el caudal, la longitud y la fecha."
   ]
  },
  {
   "cell_type": "markdown",
   "metadata": {},
   "source": [
    "#### b. Si quisiéramos capturar alrededor de un 70% de los eventos de caudales extremos. Cuál es la precisión de tu modelo con ese porcentaje de captura? Cuéntanos si te parece útil."
   ]
  },
  {
   "cell_type": "markdown",
   "metadata": {},
   "source": [
    "El modelo de datos balanceados captura un 76% de los eventos extremos. Y la precisión de mi modelo es de 97.49. Vale destacar que el modelo se hizo con datos de 133 estaciones y puede no funcionar de manera adecuada para otras condiciones."
   ]
  }
 ],
 "metadata": {
  "kernelspec": {
   "display_name": "R",
   "language": "R",
   "name": "ir"
  },
  "language_info": {
   "codemirror_mode": "r",
   "file_extension": ".r",
   "mimetype": "text/x-r-source",
   "name": "R",
   "pygments_lexer": "r",
   "version": "3.6.1"
  }
 },
 "nbformat": 4,
 "nbformat_minor": 2
}
